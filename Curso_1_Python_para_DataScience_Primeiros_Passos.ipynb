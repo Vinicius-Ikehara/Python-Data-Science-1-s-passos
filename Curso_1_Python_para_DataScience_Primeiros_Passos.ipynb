{
  "nbformat": 4,
  "nbformat_minor": 0,
  "metadata": {
    "colab": {
      "name": "Curso 1 - Python para DataScience: Primeiros Passos.ipynb",
      "provenance": [],
      "collapsed_sections": []
    },
    "kernelspec": {
      "name": "python3",
      "display_name": "Python 3"
    },
    "language_info": {
      "name": "python"
    }
  },
  "cells": [
    {
      "cell_type": "markdown",
      "metadata": {
        "id": "obcnihNcuxkm"
      },
      "source": [
        "**AULA 1 - PARTE 1**"
      ]
    },
    {
      "cell_type": "code",
      "metadata": {
        "colab": {
          "base_uri": "https://localhost:8080/"
        },
        "id": "6OPYLmN6u_Jx",
        "outputId": "eb57c49c-fba4-4f5f-f2f0-88a27de2871b"
      },
      "source": [
        "1+1"
      ],
      "execution_count": null,
      "outputs": [
        {
          "output_type": "execute_result",
          "data": {
            "text/plain": [
              "2"
            ]
          },
          "metadata": {},
          "execution_count": 1
        }
      ]
    },
    {
      "cell_type": "code",
      "metadata": {
        "colab": {
          "base_uri": "https://localhost:8080/",
          "height": 35
        },
        "id": "TvkFS1mDu_x0",
        "outputId": "e43acab6-2eb7-4d77-a3b9-acec32a73f86"
      },
      "source": [
        "\"Vinicius\""
      ],
      "execution_count": null,
      "outputs": [
        {
          "output_type": "execute_result",
          "data": {
            "application/vnd.google.colaboratory.intrinsic+json": {
              "type": "string"
            },
            "text/plain": [
              "'Vinicius'"
            ]
          },
          "metadata": {},
          "execution_count": 2
        }
      ]
    },
    {
      "cell_type": "code",
      "metadata": {
        "colab": {
          "base_uri": "https://localhost:8080/",
          "height": 35
        },
        "id": "NJ1MawVVvCUh",
        "outputId": "5fcd997d-ec03-4555-da34-0f3bfe76a465"
      },
      "source": [
        "'Vinicius' # Por convenção utilizaremos áspas simples para strings"
      ],
      "execution_count": null,
      "outputs": [
        {
          "output_type": "execute_result",
          "data": {
            "application/vnd.google.colaboratory.intrinsic+json": {
              "type": "string"
            },
            "text/plain": [
              "'Vinicius'"
            ]
          },
          "metadata": {},
          "execution_count": 3
        }
      ]
    },
    {
      "cell_type": "code",
      "metadata": {
        "id": "RIDWgK7-vERN"
      },
      "source": [
        "nome = 'Vinicius' # Atribuição Vinicius na variável nome"
      ],
      "execution_count": null,
      "outputs": []
    },
    {
      "cell_type": "code",
      "metadata": {
        "colab": {
          "base_uri": "https://localhost:8080/",
          "height": 35
        },
        "id": "2mrR9cT3vVUR",
        "outputId": "370e0436-b6fc-4287-a6d8-3a04333d749d"
      },
      "source": [
        "nome"
      ],
      "execution_count": null,
      "outputs": [
        {
          "output_type": "execute_result",
          "data": {
            "application/vnd.google.colaboratory.intrinsic+json": {
              "type": "string"
            },
            "text/plain": [
              "'Vinicius'"
            ]
          },
          "metadata": {},
          "execution_count": 5
        }
      ]
    },
    {
      "cell_type": "code",
      "metadata": {
        "id": "GimRjEUavWVo"
      },
      "source": [
        "idade = 23  # Atribuição 23 na variável idade"
      ],
      "execution_count": null,
      "outputs": []
    },
    {
      "cell_type": "code",
      "metadata": {
        "colab": {
          "base_uri": "https://localhost:8080/"
        },
        "id": "SutDjLvKvaL8",
        "outputId": "9454eb4d-5eab-4c45-bb7a-81098147eacd"
      },
      "source": [
        "idade"
      ],
      "execution_count": null,
      "outputs": [
        {
          "output_type": "execute_result",
          "data": {
            "text/plain": [
              "23"
            ]
          },
          "metadata": {},
          "execution_count": 7
        }
      ]
    },
    {
      "cell_type": "markdown",
      "metadata": {
        "id": "Ezr4EFrfvpTX"
      },
      "source": [
        "**AULA 1 - PARTE 2 - MINHA PRIMEIRA FUNÇÃO**"
      ]
    },
    {
      "cell_type": "code",
      "metadata": {
        "colab": {
          "base_uri": "https://localhost:8080/"
        },
        "id": "K8nWVkpAvyL3",
        "outputId": "b2c60a84-2995-43b9-cc94-d8b97b8ed4e8"
      },
      "source": [
        "# Print comum onde fala o nome e a idade\n",
        "print('O nome é Vinicius e sua idade é 23 anos')"
      ],
      "execution_count": null,
      "outputs": [
        {
          "output_type": "stream",
          "name": "stdout",
          "text": [
            "O nome é Vinicius e sua idade é 23 anos\n"
          ]
        }
      ]
    },
    {
      "cell_type": "code",
      "metadata": {
        "colab": {
          "base_uri": "https://localhost:8080/"
        },
        "id": "s2b_oTzgv9wF",
        "outputId": "c3e6cdd3-ac9e-44e3-e004-cff9dfc50075"
      },
      "source": [
        "print(f'O nome é {nome} e sua idade é {idade} anos') # Utilizando o print(f) colocando a variavel entre chaves"
      ],
      "execution_count": null,
      "outputs": [
        {
          "output_type": "stream",
          "name": "stdout",
          "text": [
            "O nome é Vinicius e sua idade é 23 anos\n"
          ]
        }
      ]
    },
    {
      "cell_type": "code",
      "metadata": {
        "id": "KlyrMs5SwLa7"
      },
      "source": [
        "#Vamos criar uma função agora que faça uma saudação\n",
        "#def é o que indica que vamos criar uma função\n",
        "def saudacao():\n",
        "  nome = input('Qual o seu nome?')\n",
        "  print(f'Olá {nome}')"
      ],
      "execution_count": null,
      "outputs": []
    },
    {
      "cell_type": "code",
      "metadata": {
        "colab": {
          "base_uri": "https://localhost:8080/"
        },
        "id": "_ix534xAwolt",
        "outputId": "9b1bea84-2a15-4743-b270-5057f56b5787"
      },
      "source": [
        "saudacao()"
      ],
      "execution_count": null,
      "outputs": [
        {
          "output_type": "stream",
          "name": "stdout",
          "text": [
            "Qual o seu nome?Vinicius\n",
            "Olá Vinicius\n"
          ]
        }
      ]
    },
    {
      "cell_type": "markdown",
      "metadata": {
        "id": "LTq7Rq30z33S"
      },
      "source": [
        "**AULA 1 - PARTE 5 - FUNÇÃO NOME COMPLETO**\n"
      ]
    },
    {
      "cell_type": "code",
      "metadata": {
        "colab": {
          "base_uri": "https://localhost:8080/"
        },
        "id": "4aShKP0_0qgV",
        "outputId": "c07fc294-c87d-42e5-cb22-5720ebafecb9"
      },
      "source": [
        "def nome_completo():\n",
        " primeiro_nome = input('Qual seu primeiro nome? ')\n",
        " sobrenome = input('Qual seu sobrenome? ')\n",
        " nome_inteiro = primeiro_nome + ' ' + sobrenome\n",
        " print(nome_inteiro)\n",
        "\n",
        "nome_completo()"
      ],
      "execution_count": null,
      "outputs": [
        {
          "output_type": "stream",
          "name": "stdout",
          "text": [
            "Qual seu primeiro nome? Vinicius\n",
            "Qual seu sobrenome? Ikehara\n",
            "Vinicius Ikehara\n"
          ]
        }
      ]
    },
    {
      "cell_type": "markdown",
      "metadata": {
        "id": "N-K_R2Kw1Wqn"
      },
      "source": [
        "**AULA 2 - PARTE 1 - FUNÇÃO COM PARAMETROS**"
      ]
    },
    {
      "cell_type": "code",
      "metadata": {
        "id": "uRZyzIWB1ceU"
      },
      "source": [
        "nome = 'Luiza'"
      ],
      "execution_count": null,
      "outputs": []
    },
    {
      "cell_type": "code",
      "metadata": {
        "id": "q8T5KuMq1equ"
      },
      "source": [
        "def saudacao_com_parametros(nome_da_pessoa):\n",
        "  print(f'Olá {nome_da_pessoa}')"
      ],
      "execution_count": null,
      "outputs": []
    },
    {
      "cell_type": "code",
      "metadata": {
        "colab": {
          "base_uri": "https://localhost:8080/"
        },
        "id": "cZiXphab1mgk",
        "outputId": "b55fdd20-ab7e-4b5c-cc3d-20b3da034ceb"
      },
      "source": [
        "saudacao_com_parametros(nome) # Temos agora a função de saudação porém com o parâmetro nome, que no caso o nome armazenado foi luiza"
      ],
      "execution_count": null,
      "outputs": [
        {
          "output_type": "stream",
          "name": "stdout",
          "text": [
            "Olá Luiza\n"
          ]
        }
      ]
    },
    {
      "cell_type": "markdown",
      "metadata": {
        "id": "Of6kzTbf2BGN"
      },
      "source": [
        "**AULA 2 - PARTE 2 - CONDICIONAIS**"
      ]
    },
    {
      "cell_type": "code",
      "metadata": {
        "colab": {
          "base_uri": "https://localhost:8080/"
        },
        "id": "EUyuQu772Jhg",
        "outputId": "06d5e495-514d-41eb-b3a8-7b478b3d3c81"
      },
      "source": [
        "#Quero testar se uma pessoa tem idade maior ou não de 18, se sim ela pode dirigir\n",
        "idade = 15\n",
        "\n",
        "def verifica_se_pode_dirigir(idade):\n",
        "  if idade >= 18:\n",
        "    print('Tem permissão para dirigir')\n",
        "  else: \n",
        "    print('Não tem permissão para dirigir')\n",
        "verifica_se_pode_dirigir(idade)"
      ],
      "execution_count": null,
      "outputs": [
        {
          "output_type": "stream",
          "name": "stdout",
          "text": [
            "Não tem permissão para dirigir\n"
          ]
        }
      ]
    },
    {
      "cell_type": "markdown",
      "metadata": {
        "id": "n5oOhtBs264m"
      },
      "source": [
        "**AULA 2 - PARTE 3 - CONVERSÃO DE TIPOS**"
      ]
    },
    {
      "cell_type": "code",
      "metadata": {
        "id": "TWcwg6dz2RyF"
      },
      "source": [
        "#def verifica_se_pode_dirigir_sem_parametros():\n",
        "# idade = input('Qual a sua idade')\n",
        "#  if idade >= 18:\n",
        "#    print('Tem permisssão para dirigir')\n",
        "#  else:\n",
        "#    print('Não tem permissão para dirigir')\n",
        "#\n",
        "#verifica_se_pode_dirigir_sem_parametros()"
      ],
      "execution_count": null,
      "outputs": []
    },
    {
      "cell_type": "markdown",
      "metadata": {
        "id": "FKMDz_vk3a71"
      },
      "source": [
        "Chegamos ao problema desse exercício onde o input está considerando um texto e não um inteiro, então devemos converter esse input e obrigar a ser do tipo int\n"
      ]
    },
    {
      "cell_type": "code",
      "metadata": {
        "colab": {
          "base_uri": "https://localhost:8080/"
        },
        "id": "9ktzEqs33R9Y",
        "outputId": "28bfce99-5981-4335-f712-913d12eba1b3"
      },
      "source": [
        "def verifica_se_pode_dirigir_sem_parametros():\n",
        "  idade = input('Qual a sua idade')\n",
        "  idade = int(idade) #Converte o numero digitado só que como string para o tipo inteiro\n",
        "  if idade >= 18:\n",
        "    print('Tem permisssão para dirigir')\n",
        "  else:\n",
        "    print('Não tem permissão para dirigir')\n",
        "\n",
        "verifica_se_pode_dirigir_sem_parametros()"
      ],
      "execution_count": null,
      "outputs": [
        {
          "output_type": "stream",
          "name": "stdout",
          "text": [
            "Qual a sua idade23\n",
            "Tem permisssão para dirigir\n"
          ]
        }
      ]
    },
    {
      "cell_type": "markdown",
      "metadata": {
        "id": "DUEtdfIk5AUx"
      },
      "source": [
        "**AULA 3 - PARTE 1 - CRIANDO UMA LISTA**"
      ]
    },
    {
      "cell_type": "code",
      "metadata": {
        "colab": {
          "base_uri": "https://localhost:8080/"
        },
        "id": "GVRbUyKS5D1F",
        "outputId": "c21c1d71-47f3-4a65-c0ae-f41d9048b5eb"
      },
      "source": [
        "idade = 22\n",
        "type(idade)"
      ],
      "execution_count": null,
      "outputs": [
        {
          "output_type": "execute_result",
          "data": {
            "text/plain": [
              "int"
            ]
          },
          "metadata": {},
          "execution_count": 20
        }
      ]
    },
    {
      "cell_type": "code",
      "metadata": {
        "colab": {
          "base_uri": "https://localhost:8080/"
        },
        "id": "niPMgsaU5H7m",
        "outputId": "1a5120e1-1faf-4f9c-9b0a-e2f1accf3791"
      },
      "source": [
        "nome = 'Guilherme'\n",
        "type(nome)"
      ],
      "execution_count": null,
      "outputs": [
        {
          "output_type": "execute_result",
          "data": {
            "text/plain": [
              "str"
            ]
          },
          "metadata": {},
          "execution_count": 21
        }
      ]
    },
    {
      "cell_type": "code",
      "metadata": {
        "id": "74GKxJeX5M9v"
      },
      "source": [
        "idades = [18, 22, 15, 50]"
      ],
      "execution_count": null,
      "outputs": []
    },
    {
      "cell_type": "code",
      "metadata": {
        "colab": {
          "base_uri": "https://localhost:8080/"
        },
        "id": "JUs4h8jU5XX1",
        "outputId": "1e4a415c-7fd2-478a-925d-9425a3e75faa"
      },
      "source": [
        "idades[2] # Isso acontece pois 15 é o terceiro elemento do array, sendo 0 o primeiro então se printarmos a idades com index 1 aí sim printaremos o 22"
      ],
      "execution_count": null,
      "outputs": [
        {
          "output_type": "execute_result",
          "data": {
            "text/plain": [
              "15"
            ]
          },
          "metadata": {},
          "execution_count": 23
        }
      ]
    },
    {
      "cell_type": "code",
      "metadata": {
        "colab": {
          "base_uri": "https://localhost:8080/"
        },
        "id": "_d75AZvs5Yiy",
        "outputId": "99441437-e0bf-4361-cb88-072122ea4820"
      },
      "source": [
        "idades[1]"
      ],
      "execution_count": null,
      "outputs": [
        {
          "output_type": "execute_result",
          "data": {
            "text/plain": [
              "22"
            ]
          },
          "metadata": {},
          "execution_count": 24
        }
      ]
    },
    {
      "cell_type": "code",
      "metadata": {
        "colab": {
          "base_uri": "https://localhost:8080/"
        },
        "id": "OsQX5nZq5nPA",
        "outputId": "524aa1a7-eff1-4264-9417-f6e8fc160286"
      },
      "source": [
        "#Se quisermos printar do primeiro ao 3 elemento do array podemos fazer isso?\n",
        "idades[0:2]"
      ],
      "execution_count": null,
      "outputs": [
        {
          "output_type": "execute_result",
          "data": {
            "text/plain": [
              "[18, 22]"
            ]
          },
          "metadata": {},
          "execution_count": 25
        }
      ]
    },
    {
      "cell_type": "code",
      "metadata": {
        "colab": {
          "base_uri": "https://localhost:8080/"
        },
        "id": "Us1pKMlw5vGR",
        "outputId": "aa618cf3-a94a-4e40-fcbf-31939574d786"
      },
      "source": [
        "#Deu pra ver que não pois ele não inclui o último elemento para printar do primeiro ao terceiro faremos da seguinte forma\n",
        "idades[0:3]"
      ],
      "execution_count": null,
      "outputs": [
        {
          "output_type": "execute_result",
          "data": {
            "text/plain": [
              "[18, 22, 15]"
            ]
          },
          "metadata": {},
          "execution_count": 26
        }
      ]
    },
    {
      "cell_type": "code",
      "metadata": {
        "colab": {
          "base_uri": "https://localhost:8080/"
        },
        "id": "IPF_LoH_6DF7",
        "outputId": "d27ae4c4-8c23-4875-e277-7f66a20caf64"
      },
      "source": [
        "#E se quisermos pegar apenas o último elemento\n",
        "idades[-1]"
      ],
      "execution_count": null,
      "outputs": [
        {
          "output_type": "execute_result",
          "data": {
            "text/plain": [
              "50"
            ]
          },
          "metadata": {},
          "execution_count": 28
        }
      ]
    },
    {
      "cell_type": "code",
      "metadata": {
        "colab": {
          "base_uri": "https://localhost:8080/"
        },
        "id": "I5rFY0ol6IU7",
        "outputId": "b96f3133-78ee-42af-8304-44a290ea7e8c"
      },
      "source": [
        "#Os arrays podem ser interpretados como\n",
        "#idades = [18, 22, 15, 50]\n",
        "#          0    1   2   3\n",
        "# ou       0   -3  -2  -1\n",
        "#então se imprimirmos \n",
        "idades[-2] #o resultado dever ser 15"
      ],
      "execution_count": null,
      "outputs": [
        {
          "output_type": "execute_result",
          "data": {
            "text/plain": [
              "15"
            ]
          },
          "metadata": {},
          "execution_count": 29
        }
      ]
    },
    {
      "cell_type": "markdown",
      "metadata": {
        "id": "X_attwSe6RjP"
      },
      "source": [
        "**AULA 3 - PARTE 2 - LAÇOS E LOOPS**"
      ]
    },
    {
      "cell_type": "code",
      "metadata": {
        "colab": {
          "base_uri": "https://localhost:8080/"
        },
        "id": "owhwCivd7WWq",
        "outputId": "623b3efd-019d-40b2-a6bc-42f1bebe8671"
      },
      "source": [
        "#Vamos unir o conhecimento de funções, condições com os novos conhecimentos de laços\n",
        "#Criaremos então um laço para verificar uma lista de idades e ver se estes podem dirigir\n",
        "#Nesse caso o laço estará de fora da função verificar\n",
        "\n",
        "def verifica_se_pode_dirigir(idade):\n",
        "  if idade >= 18:\n",
        "    print(f'{idade} anos de idade, TEM permissão para dirigir')\n",
        "  else: \n",
        "    print(f'{idade} anos de idade, NÃO tem permissão para dirigir')\n",
        "\n",
        "for idade in idades:\n",
        "  verifica_se_pode_dirigir(idade)"
      ],
      "execution_count": null,
      "outputs": [
        {
          "output_type": "stream",
          "name": "stdout",
          "text": [
            "18 anos de idade, TEM permissão para dirigir\n",
            "22 anos de idade, TEM permissão para dirigir\n",
            "15 anos de idade, NÃO tem permissão para dirigir\n",
            "50 anos de idade, TEM permissão para dirigir\n"
          ]
        }
      ]
    },
    {
      "cell_type": "code",
      "metadata": {
        "colab": {
          "base_uri": "https://localhost:8080/"
        },
        "id": "I2oi2DM37lBI",
        "outputId": "e07fcf3a-937f-4220-d4cb-c73473fc40fe"
      },
      "source": [
        "#Criaremos a mesma função porém agora com com o laço dentro da função\n",
        "\n",
        "def verifica_se_pode_dirigir(idades):\n",
        "  for idade in idades:\n",
        "    if idade >= 18:\n",
        "      print(f'{idade} anos de idade, TEM permissão para dirigir')\n",
        "    else: \n",
        "      print(f'{idade} anos de idade, NÃO tem permissão para dirigir')\n",
        "\n",
        "verifica_se_pode_dirigir(idades)"
      ],
      "execution_count": null,
      "outputs": [
        {
          "output_type": "stream",
          "name": "stdout",
          "text": [
            "18 anos de idade, TEM permissão para dirigir\n",
            "22 anos de idade, TEM permissão para dirigir\n",
            "15 anos de idade, NÃO tem permissão para dirigir\n",
            "50 anos de idade, TEM permissão para dirigir\n"
          ]
        }
      ]
    },
    {
      "cell_type": "markdown",
      "metadata": {
        "id": "0I15RgHd9Fii"
      },
      "source": [
        "**AULA 3 - PARTE 3 - TIPO BOOLEANO**"
      ]
    },
    {
      "cell_type": "code",
      "metadata": {
        "colab": {
          "base_uri": "https://localhost:8080/"
        },
        "id": "rsFirkTV8V3Q",
        "outputId": "dc4292ec-da0b-4bad-e2b7-4370c775a44b"
      },
      "source": [
        "#O tipo booleano é o falso ou verdadeiro\n",
        "\n",
        "idade = 18\n",
        "idade >=18"
      ],
      "execution_count": null,
      "outputs": [
        {
          "output_type": "execute_result",
          "data": {
            "text/plain": [
              "True"
            ]
          },
          "metadata": {},
          "execution_count": 32
        }
      ]
    },
    {
      "cell_type": "code",
      "metadata": {
        "id": "wFEDU7M_9Ot4"
      },
      "source": [
        "#Vamos criar uma lista de permissões\n",
        "permissoes = []\n",
        "idades = [20,14,40]\n",
        "\n",
        "def verifica_se_pode_dirigir(idades, permissoes):\n",
        "  for idade in idades:\n",
        "    if idade >= 18:\n",
        "      permissoes.append(True)\n",
        "    else:\n",
        "      permissoes.append(False)\n",
        "\n",
        "verifica_se_pode_dirigir(idades, permissoes)"
      ],
      "execution_count": null,
      "outputs": []
    },
    {
      "cell_type": "code",
      "metadata": {
        "colab": {
          "base_uri": "https://localhost:8080/"
        },
        "id": "YQDELNJC9liS",
        "outputId": "5800f05c-f762-4bfc-bf4a-dd4fbb03090b"
      },
      "source": [
        "permissoes # Deu certo!"
      ],
      "execution_count": null,
      "outputs": [
        {
          "output_type": "execute_result",
          "data": {
            "text/plain": [
              "[True, False, True]"
            ]
          },
          "metadata": {},
          "execution_count": 34
        }
      ]
    },
    {
      "cell_type": "code",
      "metadata": {
        "colab": {
          "base_uri": "https://localhost:8080/"
        },
        "id": "F2lyavpK9rIT",
        "outputId": "eb598364-2b81-414a-91f0-1367889ddf46"
      },
      "source": [
        "for permissao in permissoes:\n",
        "  if permissao == True:\n",
        "    print('Tem permissão para dirigir')\n",
        "  else:\n",
        "    print('Não tem permissão para dirigir')"
      ],
      "execution_count": null,
      "outputs": [
        {
          "output_type": "stream",
          "name": "stdout",
          "text": [
            "Tem permissão para dirigir\n",
            "Não tem permissão para dirigir\n",
            "Tem permissão para dirigir\n"
          ]
        }
      ]
    },
    {
      "cell_type": "markdown",
      "metadata": {
        "id": "y50iyQAR_dAo"
      },
      "source": [
        "**AULA 4 - PARTE 1 - TIPOS EM UMA LISTA**"
      ]
    },
    {
      "cell_type": "code",
      "metadata": {
        "colab": {
          "base_uri": "https://localhost:8080/"
        },
        "id": "ZpOlz0GP_h2N",
        "outputId": "ff119f91-243b-4e77-9dd9-56bd9aad5fae"
      },
      "source": [
        "#Será que é possível trabalhar com tipos diferentes em uma lista\n",
        "\n",
        "lista = ['Guilherme', 28, True, '18']\n",
        "\n",
        "for elemento in lista:\n",
        "  print(f'O elemento {elemento} é do tipo: ', type(elemento))"
      ],
      "execution_count": null,
      "outputs": [
        {
          "output_type": "stream",
          "name": "stdout",
          "text": [
            "O elemento Guilherme é do tipo:  <class 'str'>\n",
            "O elemento 28 é do tipo:  <class 'int'>\n",
            "O elemento True é do tipo:  <class 'bool'>\n",
            "O elemento 18 é do tipo:  <class 'str'>\n"
          ]
        }
      ]
    },
    {
      "cell_type": "markdown",
      "metadata": {
        "id": "CFZZ2jsuAJdb"
      },
      "source": [
        "**AULA 4 - PARTE 2 - IMPORTS**"
      ]
    },
    {
      "cell_type": "code",
      "metadata": {
        "id": "Xk-UdEyE_4nn"
      },
      "source": [
        "#Queremos fazer agora um sistema de notas de alunos\n",
        "#Vamos utilizar primeiramente a biblioteca random\n",
        "#Vamos gerar numeros inteiros e atribuí-los a notas\n",
        "\n",
        "from random import randrange"
      ],
      "execution_count": null,
      "outputs": []
    },
    {
      "cell_type": "code",
      "metadata": {
        "colab": {
          "base_uri": "https://localhost:8080/"
        },
        "id": "9SPp6ZOmAexJ",
        "outputId": "77791ef5-6991-4ca5-a05c-513205471565"
      },
      "source": [
        "#Vamos testar se está funcionando\n",
        "\n",
        "randrange(0,11) # Temos que colocar de 0 até 11 para poder exibir valores de 0 a 10, pois se colocar de 0 a 10, não da certo pois ele exibiria no máximo de 0 a 9"
      ],
      "execution_count": null,
      "outputs": [
        {
          "output_type": "execute_result",
          "data": {
            "text/plain": [
              "7"
            ]
          },
          "metadata": {},
          "execution_count": 38
        }
      ]
    },
    {
      "cell_type": "code",
      "metadata": {
        "colab": {
          "base_uri": "https://localhost:8080/"
        },
        "id": "gYk_WR-vAklX",
        "outputId": "0f97b435-983f-4808-f3ea-a2bce402c79a"
      },
      "source": [
        "#Vamos supor que temos 4 bimestres no ano, e cada um tem duas provas então 8 notas a serem armazenadas para cada luno\n",
        "\n",
        "notas_matematica = []\n",
        "\n",
        "for notas in range(8):\n",
        "  notas_matematica.append(randrange(0,11))\n",
        "\n",
        "notas_matematica\n"
      ],
      "execution_count": null,
      "outputs": [
        {
          "output_type": "execute_result",
          "data": {
            "text/plain": [
              "[2, 8, 5, 6, 10, 5, 8, 8]"
            ]
          },
          "metadata": {},
          "execution_count": 39
        }
      ]
    },
    {
      "cell_type": "code",
      "metadata": {
        "colab": {
          "base_uri": "https://localhost:8080/"
        },
        "id": "db7q8rsXBJPq",
        "outputId": "fbde5692-444e-4df1-a87a-3390e326544c"
      },
      "source": [
        "len(notas_matematica) #Verificar se temos realmente 8 notas"
      ],
      "execution_count": null,
      "outputs": [
        {
          "output_type": "execute_result",
          "data": {
            "text/plain": [
              "8"
            ]
          },
          "metadata": {},
          "execution_count": 40
        }
      ]
    },
    {
      "cell_type": "code",
      "metadata": {
        "id": "-taczAS9BPc3"
      },
      "source": [
        "#Para manipular os numeros aleatórios temos o seed, que toda vez vai gerar os mesmos números aleatórios\n",
        "from random import seed\n",
        "\n",
        "seed(8)"
      ],
      "execution_count": null,
      "outputs": []
    },
    {
      "cell_type": "code",
      "metadata": {
        "colab": {
          "base_uri": "https://localhost:8080/"
        },
        "id": "__jwTfDTBunZ",
        "outputId": "6470488b-a9c1-4105-85f1-c322dd574d7b"
      },
      "source": [
        "randrange(0,11)"
      ],
      "execution_count": null,
      "outputs": [
        {
          "output_type": "execute_result",
          "data": {
            "text/plain": [
              "3"
            ]
          },
          "metadata": {},
          "execution_count": 42
        }
      ]
    },
    {
      "cell_type": "markdown",
      "metadata": {
        "id": "PBwEzsSlXgZt"
      },
      "source": [
        "**AULA 5 - PARTE 1 - CRIANDO UM GRÁFICO**"
      ]
    },
    {
      "cell_type": "code",
      "metadata": {
        "id": "_d7tsvwfBzpd"
      },
      "source": [
        "# Queremos criar um gráfico, a partir das notas dos nossos alunos\n",
        "# Para isso usaremos o matplotlib\n",
        "\n",
        "import matplotlib.pyplot as plt # Utilizamos o apelido plt como convenção"
      ],
      "execution_count": null,
      "outputs": []
    },
    {
      "cell_type": "code",
      "metadata": {
        "colab": {
          "base_uri": "https://localhost:8080/"
        },
        "id": "LJuVUil1X5Pb",
        "outputId": "7e5550e4-d27c-40f2-a72b-3e298d2d9add"
      },
      "source": [
        "x = list(range(1,9))\n",
        "x"
      ],
      "execution_count": null,
      "outputs": [
        {
          "output_type": "execute_result",
          "data": {
            "text/plain": [
              "[1, 2, 3, 4, 5, 6, 7, 8]"
            ]
          },
          "metadata": {},
          "execution_count": 44
        }
      ]
    },
    {
      "cell_type": "code",
      "metadata": {
        "colab": {
          "base_uri": "https://localhost:8080/",
          "height": 282
        },
        "id": "ALo0mDUMYB9g",
        "outputId": "34458578-bd26-491f-b656-f80c666a06f9"
      },
      "source": [
        " y = notas_matematica\n",
        " plt.plot(x,y)"
      ],
      "execution_count": null,
      "outputs": [
        {
          "output_type": "execute_result",
          "data": {
            "text/plain": [
              "[<matplotlib.lines.Line2D at 0x7f75773d2750>]"
            ]
          },
          "metadata": {},
          "execution_count": 45
        },
        {
          "output_type": "display_data",
          "data": {
            "image/png": "[encoded data removed]",
            "text/plain": [
              "<Figure size 432x288 with 1 Axes>"
            ]
          },
          "metadata": {
            "needs_background": "light"
          }
        }
      ]
    },
    {
      "cell_type": "code",
      "metadata": {
        "colab": {
          "base_uri": "https://localhost:8080/",
          "height": 295
        },
        "id": "ctJrvACObl0M",
        "outputId": "df53bdf3-6bfa-4b3d-9174-9135c79e3e92"
      },
      "source": [
        "#Para melhorar esse gráfico vamos fazer o seguinte\n",
        "plt.plot(x,y, marker='o') # Marcação nos pontos das notas\n",
        "plt.title('Notas de Matemática') # Nome do gráfico\n",
        "plt.xlabel('PROVAS') # Label Eixo X - PROVAS\n",
        "plt.ylabel('NOTAS') # Label Eixo Y - NOTAS\n",
        "plt.show()"
      ],
      "execution_count": null,
      "outputs": [
        {
          "output_type": "display_data",
          "data": {
            "image/png": "[encoded data removed]",
            "text/plain": [
              "<Figure size 432x288 with 1 Axes>"
            ]
          },
          "metadata": {
            "needs_background": "light"
          }
        }
      ]
    },
    {
      "cell_type": "markdown",
      "metadata": {
        "id": "V3-_uw2Mc8xp"
      },
      "source": [
        "**AULA 5 - PARTE 3 - LÓGICA E VALOR FINAL**"
      ]
    },
    {
      "cell_type": "code",
      "metadata": {
        "id": "9JvYpC2pb8Bj"
      },
      "source": [
        "notas_matematica = ['Matemática',8,7,6,6,7,7,8,10]\n",
        "notas_portugues = ['Português',9,9,9,8,5,6,8,5]\n",
        "notas_geografia = ['Geografia',10,10,6,7,7,7,8,7]\n",
        "\n",
        "notas = [notas_matematica, notas_portugues, notas_geografia]"
      ],
      "execution_count": null,
      "outputs": []
    },
    {
      "cell_type": "code",
      "metadata": {
        "colab": {
          "base_uri": "https://localhost:8080/",
          "height": 851
        },
        "id": "SrOZ17gTdFUz",
        "outputId": "02788272-5a8b-4c97-8838-5c9f214710b6"
      },
      "source": [
        "for nota in notas:\n",
        "  x = list(range(1,9))\n",
        "  y = nota[1:]\n",
        "  plt.plot(x,y,marker='o')\n",
        "  plt.xlabel('Provas')\n",
        "  plt.ylabel('Notas')\n",
        "  plt.title(nota[0])\n",
        "  plt.show()"
      ],
      "execution_count": null,
      "outputs": [
        {
          "output_type": "display_data",
          "data": {
            "image/png": "[encoded data removed]",
            "text/plain": [
              "<Figure size 432x288 with 1 Axes>"
            ]
          },
          "metadata": {
            "needs_background": "light"
          }
        },
        {
          "output_type": "display_data",
          "data": {
            "image/png": "[encoded data removed]",
            "text/plain": [
              "<Figure size 432x288 with 1 Axes>"
            ]
          },
          "metadata": {
            "needs_background": "light"
          }
        },
        {
          "output_type": "display_data",
          "data": {
            "image/png": "[encoded data removed]",
            "text/plain": [
              "<Figure size 432x288 with 1 Axes>"
            ]
          },
          "metadata": {
            "needs_background": "light"
          }
        }
      ]
    },
    {
      "cell_type": "code",
      "metadata": {
        "id": "lu1lgii8dioq"
      },
      "source": [
        ""
      ],
      "execution_count": null,
      "outputs": []
    }
  ]
}